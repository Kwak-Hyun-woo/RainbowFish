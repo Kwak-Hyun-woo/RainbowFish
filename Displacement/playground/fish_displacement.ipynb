{
 "cells": [
  {
   "cell_type": "code",
   "execution_count": 6,
   "id": "32afa994",
   "metadata": {},
   "outputs": [],
   "source": [
    "import trimesh\n",
    "from trimesh.visual.texture import TextureVisuals, SimpleMaterial\n",
    "import open3d as o3d\n",
    "from PIL import Image\n",
    "import numpy as np\n",
    "import pyrender\n",
    "import math\n",
    "from tqdm import tqdm\n",
    "import os\n",
    "from utils_fish import fps_sample_vertices, visualize_sorted_vertices_plotly, visualize_direction_vec_w_fish, get_rotation_matrix_from_vectors, rotate_mesh_vertices, rotation_matrix_axis_angle, rotation_matrix_from_vectors, rotate_mesh, get_fish_forward_vector"
   ]
  },
  {
   "cell_type": "code",
   "execution_count": 3,
   "id": "f698a3a5",
   "metadata": {},
   "outputs": [],
   "source": [
    "\n",
    "# ----------------------------------------\n",
    "# Basic parameters\n",
    "# ----------------------------------------\n",
    "DATA_DIR      = './3d_fish_reduced'\n",
    "INPUT_MESH    = 'reference_fish_smpl.glb'\n",
    "SCALE_RATIO   = 0.06\n",
    "NUM_INSTANCES = 360\n",
    "\n",
    "\n",
    "# original mesh load and scale\n",
    "reference_fish = trimesh.load(os.path.join(DATA_DIR, INPUT_MESH))\n",
    "reference_fish = reference_fish.dump()\n",
    "reference_fish = trimesh.util.concatenate(reference_fish)"
   ]
  },
  {
   "cell_type": "code",
   "execution_count": 4,
   "id": "70b92480",
   "metadata": {},
   "outputs": [],
   "source": [
    "# fps sampling \n",
    "points = fps_sample_vertices(reference_fish, max_samples=NUM_INSTANCES)"
   ]
  },
  {
   "cell_type": "code",
   "execution_count": 8,
   "id": "97fe86b3",
   "metadata": {},
   "outputs": [],
   "source": [
    "# Normalize scale of fishes \n",
    "import pandas as pd \n",
    "file_path = \"fish_asset_color_ranking_kmeans.csv\"\n",
    "small_fishes = []\n",
    "\n",
    "\n",
    "df = pd.read_csv(file_path)\n",
    "file_names = [os.path.splitext(name)[0]+\"_smpl.glb\" for name in df[\"file_name\"]]\n",
    "file_names = [os.path.join(DATA_DIR, name) for name in file_names]\n",
    "for i, file in enumerate(file_names):\n",
    "    small_fish = trimesh.load(file)\n",
    "    small_fish = small_fish.dump()\n",
    "    small_fish = trimesh.util.concatenate(small_fish)\n",
    "    small_fishes.append(small_fish)\n",
    "    # small_fish.show()\n"
   ]
  },
  {
   "cell_type": "code",
   "execution_count": 29,
   "id": "096bff32",
   "metadata": {},
   "outputs": [],
   "source": [
    "forward_vec = get_fish_forward_vector(reference_fish)  # 머리 → 꼬리 방향 벡터"
   ]
  },
  {
   "cell_type": "code",
   "execution_count": 45,
   "id": "6aad35f2",
   "metadata": {},
   "outputs": [
    {
     "data": {
      "application/vnd.plotly.v1+json": {
       "config": {
        "plotlyServerURL": "https://plot.ly"
       },
       "data": [
        {
         "marker": {
          "color": [
           "rgb(127, 0, 255)",
           "rgb(123, 6, 254)",
           "rgb(117, 15, 254)",
           "rgb(113, 21, 254)",
           "rgb(107, 31, 254)",
           "rgb(103, 37, 254)",
           "rgb(97, 46, 253)",
           "rgb(91, 56, 253)",
           "rgb(87, 62, 253)",
           "rgb(81, 71, 252)",
           "rgb(77, 77, 251)",
           "rgb(71, 86, 251)",
           "rgb(65, 95, 250)",
           "rgb(61, 100, 249)",
           "rgb(55, 109, 248)",
           "rgb(51, 115, 248)",
           "rgb(45, 123, 246)",
           "rgb(41, 128, 246)",
           "rgb(35, 136, 244)",
           "rgb(29, 144, 243)",
           "rgb(25, 149, 242)",
           "rgb(19, 157, 241)",
           "rgb(15, 162, 239)",
           "rgb(9, 169, 238)",
           "rgb(3, 176, 236)",
           "rgb(0, 180, 235)",
           "rgb(6, 187, 233)",
           "rgb(10, 191, 232)",
           "rgb(16, 197, 230)",
           "rgb(20, 201, 228)",
           "rgb(26, 207, 226)",
           "rgb(32, 212, 224)",
           "rgb(36, 215, 223)",
           "rgb(42, 220, 220)",
           "rgb(46, 223, 219)",
           "rgb(52, 228, 216)",
           "rgb(58, 232, 214)",
           "rgb(62, 234, 212)",
           "rgb(68, 238, 209)",
           "rgb(72, 240, 208)",
           "rgb(78, 243, 205)",
           "rgb(84, 246, 202)",
           "rgb(88, 247, 200)",
           "rgb(94, 249, 197)",
           "rgb(98, 250, 195)",
           "rgb(104, 252, 192)",
           "rgb(108, 253, 190)",
           "rgb(114, 254, 187)",
           "rgb(120, 254, 184)",
           "rgb(124, 254, 181)",
           "rgb(130, 254, 178)",
           "rgb(134, 254, 176)",
           "rgb(140, 254, 172)",
           "rgb(146, 253, 169)",
           "rgb(150, 252, 167)",
           "rgb(156, 250, 163)",
           "rgb(160, 249, 161)",
           "rgb(166, 247, 157)",
           "rgb(170, 246, 154)",
           "rgb(176, 243, 151)",
           "rgb(182, 240, 147)",
           "rgb(186, 238, 144)",
           "rgb(192, 234, 140)",
           "rgb(196, 232, 138)",
           "rgb(202, 228, 134)",
           "rgb(208, 223, 130)",
           "rgb(212, 220, 127)",
           "rgb(218, 215, 123)",
           "rgb(222, 212, 120)",
           "rgb(228, 207, 116)",
           "rgb(234, 201, 112)",
           "rgb(238, 197, 109)",
           "rgb(244, 191, 105)",
           "rgb(248, 187, 102)",
           "rgb(254, 180, 97)",
           "rgb(255, 176, 95)",
           "rgb(255, 169, 90)",
           "rgb(255, 162, 86)",
           "rgb(255, 157, 83)",
           "rgb(255, 149, 78)",
           "rgb(255, 144, 75)",
           "rgb(255, 136, 71)",
           "rgb(255, 128, 66)",
           "rgb(255, 123, 63)",
           "rgb(255, 115, 59)",
           "rgb(255, 109, 56)",
           "rgb(255, 100, 51)",
           "rgb(255, 95, 48)",
           "rgb(255, 86, 43)",
           "rgb(255, 77, 39)",
           "rgb(255, 71, 36)",
           "rgb(255, 62, 31)",
           "rgb(255, 56, 28)",
           "rgb(255, 46, 23)",
           "rgb(255, 37, 18)",
           "rgb(255, 31, 15)",
           "rgb(255, 21, 10)",
           "rgb(255, 15, 7)",
           "rgb(255, 6, 3)",
           "rgb(255, 0, 0)"
          ],
          "size": 3
         },
         "mode": "markers",
         "type": "scatter3d",
         "x": {
          "bdata": "AAAAYEMB8L8AAAAgbMnrvwAAACB/Heu/AAAAIH8d678AAACgmxvqvwAAAMDUF+i/AAAAgF6Y5r8AAACg/5TmvwAAAMAlPeW/AAAAoLk15b8AAABAL+fkvwAAACBaZOO/AAAAoHZi4r8AAABAgAzivwAAAICOi+G/AAAAAJg14b8AAAAAmDXhvwAAAED1R+C/AAAAIHy7378AAABAomPevwAAAODkCdy/AAAAgAEI278AAAAAC7LavwAAAAAeBtq/AAAAoCew2b8AAAAgRK7YvwAAAMBgrNe/AAAAQGpW178AAADAhlTWvwAAAOC/UNS/AAAAYKDT078AAAAA5vjSvwAAAIDvotK/AAAAgO+i0r8AAAAgH/XQvwAAAKDWisy/AAAAoOney78AAADAD4fKvwAAAABc18e/AAAAAG8rx78AAAAgqCfFvwAAAEDOz8O/AAAAQOEjw78AAABA9HfCvwAAAGA/2bi/AAAAgGWBt78AAADA13mzvwAAAOD9IbK/AAAAIOA0rL8AAACAeNWmvwAAAIB41aa/AAAAADcegL8AAACgnn1lvwAAAAA3HoA/AAAAwOrNkj8AAADgEHahPwAAAMAAFKQ/AAAAwNd5sz8AAACgLDG1PwAAAEDziLs/AAAAIM3gvD8AAAAgu3vEPwAAAEAkf8Q/AAAAIJXTxT8AAAAAbyvHPwAAAABc18c/AAAA4DUvyT8AAACAsOLNPwAAAKAon9A/AAAAoBVL0T8AAACgFUvRPwAAAKAC99E/AAAAgMn60z8AAADgv1DUPwAAAOCs/NQ/AAAAQGpW1z8AAACgOgTZPwAAAKA6BNk/AAAAoDoE2T8AAAAAC7LaPwAAAIDus9s/AAAAwIVl3z8AAADA3DDhPwAAAGAugeE/AAAAgI6L4T8AAACgYw7jPwAAAGBVj+M/AAAAoFC64z8AAABgCa7lPwAAACD26uY/AAAAANBC6D8AAAAA0ELoPwAAAAC97ug/AAAAoIjH6j8AAAAg0DPsPwAAAMBdSuw/AAAAQFSg7D8AAACAT8vsPwAAAIAV4+4/AAAAoHzH7z8=",
          "dtype": "f8"
         },
         "y": {
          "bdata": "AAAAILqMnT8AAACgnn1lPwAAAMAkc8E/AAAAwNd5s78AAACAeNWmPwAAAEDziLu/AAAAIM3gvD8AAADAkMK5PwAAAMBXJ88/AAAA4CLbyb8AAAAgzeC8vwAAAOD9IbK/AAAAIKgnxT8AAADA6s2SPwAAAOCXkcc/AAAAIKgnxb8AAADgYMDRvwAAAOCZqNU/AAAA4BB2oT8AAABA9HfCvwAAACDN4Lw/AAAAIM3gvL8AAAAggZvTvwAAAGB35s8/AAAAYCyFqb8AAADAD4fKPwAAAIDJ+tO/AAAAoJ59ZT8AAACgRkvYPwAAAICdjs6/AAAAwMQlpD8AAABA84i7PwAAAED0d8K/AAAAAKc4vr8AAACAijrPPwAAAIDcTtM/AAAAQAbdir8AAADAg6TXvwAAAOArh9s/AAAAYNbJz78AAAAgqCfFPwAAAOA1L8m/AAAAoJ59ZT8AAABAGTG6PwAAAEB9qtY/AAAAoMM2zT8AAADAhlTWvwAAAED0d8K/AAAAgMn60z8AAADA13mzPwAAAKCx0bS/AAAAoC0w2L8AAADA13mzPwAAAICKOs+/AAAAwPAw3D8AAAAAgn/GPwAAAMD8Msu/AAAAwOrNkj8AAAAA+UzSPwAAACC7e8S/AAAAwGCs178AAAAAgZC/PwAAAADm+NI/AAAAgHjVpr8AAACgUWvbPwAAACAf9dC/AAAAAG8rxz8AAABAGOHavwAAAMDqzZI/AAAAAPlM0j8AAAAgzeC8vwAAAEDOz8O/AAAAgMn6078AAAAgldPFPwAAAGA/2bg/AAAAgDUW2j8AAACAlkTcvwAAAEAG3Yq/AAAA4CPKsL8AAACAnY7OPwAAAKAon9C/AAAA4CPKsD8AAAAgVwLYPwAAAAALstq/AAAAQPOIu78AAADA/DLLPwAAACAf9dC/AAAAQAbdij8AAADgrPzUPwAAAGAHzMG/AAAAYFItmD8AAAAAXNfHPwAAAABE5NK/AAAAQPOIu78AAAAA5vjSPwAAACCV08U/AAAAADcegD8AAAAgx7TNvwAAACDN4Ly/AAAAQPOIuz8=",
          "dtype": "f8"
         },
         "z": {
          "bdata": "AAAAADcegL8AAAAgVZu0PwAAAAA3HoC/AAAAwIAwtb8AAABgtCi4vwAAACCVwrY/AAAAQPOIuz8AAAAApzi+vwAAAEAG3Yq/AAAAQAbdij8AAABgdu26vwAAAKB+/7w/AAAAIKopub8AAACgKv6+vwAAAICLKbY/AAAA4I3otL8AAADA6s2SvwAAAGBSLZi/AAAAAC1xvj8AAACAGw23PwAAACAAi72/AAAAQB1yv78AAABgLIWpvwAAAMCCJ7O/AAAAoLOvwT8AAABgbkK0PwAAAOCGTrA/AAAAYC4bwr8AAAAguoydPwAAAGAMIrS/AAAAAIGQvz8AAAAAhZS6vwAAAODmwLo/AAAAYBiVvb8AAAAg05G1vwAAAKDMM7E/AAAAgEy8vr8AAABgUi2YvwAAAKCefWW/AAAA4CPKsD8AAACAxq63PwAAAICO4Le/AAAA4ELFvD8AAADAJWi7vwAAAECMa6q/AAAAIHdwtr8AAADAoJ6zvwAAAAC2/7k/AAAAIEIOrz8AAAAAdEu6PwAAAECC/L2/AAAAgHjVpj8AAACA0lG7vwAAAEDsja4/AAAAoJ59Zb8AAAAg87i1PwAAAMDXebO/AAAA4O7suT8AAAAAlOSuvwAAAIBM/7Q/AAAAYEmlgb8AAACAvj+2vwAAAOAQdqE/AAAAAFd4ub8AAACgnn1lvwAAAMDwy5u/AAAAwOiasD8AAACgnn1lvwAAAGDuHrU/AAAAABYNmL8AAADAt2OyvwAAAMBdBKc/AAAAoOapeD8AAABA6ZmiPwAAAGBNgK6/AAAAoJ59Zb8AAACgnn1lvwAAAADNLLA/AAAAIL20rb8AAADg83GBPwAAAOBrsoi/AAAAIPdlmT8AAACgnn1lvwAAAKCefWW/AAAAQE3bjj8AAACgwSljPwAAAAAv4YG/AAAAwOm2h78AAACgnn1lvwAAAOAS+mI/AAAAoNUGgr8AAAAACd5iPwAAAKCefWW/AAAAIANYgr8AAACgnn1lvwAAAKB9u4G/AAAAYN8iYz8AAACgnn1lvwAAAKCefWW/AAAAoJ59Zb8=",
          "dtype": "f8"
         }
        },
        {
         "anchor": "tail",
         "colorscale": [
          [
           0,
           "rgb(247,251,255)"
          ],
          [
           0.125,
           "rgb(222,235,247)"
          ],
          [
           0.25,
           "rgb(198,219,239)"
          ],
          [
           0.375,
           "rgb(158,202,225)"
          ],
          [
           0.5,
           "rgb(107,174,214)"
          ],
          [
           0.625,
           "rgb(66,146,198)"
          ],
          [
           0.75,
           "rgb(33,113,181)"
          ],
          [
           0.875,
           "rgb(8,81,156)"
          ],
          [
           1,
           "rgb(8,48,107)"
          ]
         ],
         "showscale": false,
         "sizemode": "absolute",
         "sizeref": 0.5,
         "type": "cone",
         "u": [
          0.9998883782532787
         ],
         "v": [
          -0.012879990618441865
         ],
         "w": [
          0.007572111706590435
         ],
         "x": [
          0
         ],
         "y": [
          0
         ],
         "z": [
          0
         ]
        }
       ],
       "layout": {
        "scene": {
         "xaxis": {
          "title": {
           "text": "X"
          }
         },
         "yaxis": {
          "title": {
           "text": "Y"
          }
         },
         "zaxis": {
          "title": {
           "text": "Z"
          }
         }
        },
        "template": {
         "data": {
          "bar": [
           {
            "error_x": {
             "color": "#2a3f5f"
            },
            "error_y": {
             "color": "#2a3f5f"
            },
            "marker": {
             "line": {
              "color": "#E5ECF6",
              "width": 0.5
             },
             "pattern": {
              "fillmode": "overlay",
              "size": 10,
              "solidity": 0.2
             }
            },
            "type": "bar"
           }
          ],
          "barpolar": [
           {
            "marker": {
             "line": {
              "color": "#E5ECF6",
              "width": 0.5
             },
             "pattern": {
              "fillmode": "overlay",
              "size": 10,
              "solidity": 0.2
             }
            },
            "type": "barpolar"
           }
          ],
          "carpet": [
           {
            "aaxis": {
             "endlinecolor": "#2a3f5f",
             "gridcolor": "white",
             "linecolor": "white",
             "minorgridcolor": "white",
             "startlinecolor": "#2a3f5f"
            },
            "baxis": {
             "endlinecolor": "#2a3f5f",
             "gridcolor": "white",
             "linecolor": "white",
             "minorgridcolor": "white",
             "startlinecolor": "#2a3f5f"
            },
            "type": "carpet"
           }
          ],
          "choropleth": [
           {
            "colorbar": {
             "outlinewidth": 0,
             "ticks": ""
            },
            "type": "choropleth"
           }
          ],
          "contour": [
           {
            "colorbar": {
             "outlinewidth": 0,
             "ticks": ""
            },
            "colorscale": [
             [
              0,
              "#0d0887"
             ],
             [
              0.1111111111111111,
              "#46039f"
             ],
             [
              0.2222222222222222,
              "#7201a8"
             ],
             [
              0.3333333333333333,
              "#9c179e"
             ],
             [
              0.4444444444444444,
              "#bd3786"
             ],
             [
              0.5555555555555556,
              "#d8576b"
             ],
             [
              0.6666666666666666,
              "#ed7953"
             ],
             [
              0.7777777777777778,
              "#fb9f3a"
             ],
             [
              0.8888888888888888,
              "#fdca26"
             ],
             [
              1,
              "#f0f921"
             ]
            ],
            "type": "contour"
           }
          ],
          "contourcarpet": [
           {
            "colorbar": {
             "outlinewidth": 0,
             "ticks": ""
            },
            "type": "contourcarpet"
           }
          ],
          "heatmap": [
           {
            "colorbar": {
             "outlinewidth": 0,
             "ticks": ""
            },
            "colorscale": [
             [
              0,
              "#0d0887"
             ],
             [
              0.1111111111111111,
              "#46039f"
             ],
             [
              0.2222222222222222,
              "#7201a8"
             ],
             [
              0.3333333333333333,
              "#9c179e"
             ],
             [
              0.4444444444444444,
              "#bd3786"
             ],
             [
              0.5555555555555556,
              "#d8576b"
             ],
             [
              0.6666666666666666,
              "#ed7953"
             ],
             [
              0.7777777777777778,
              "#fb9f3a"
             ],
             [
              0.8888888888888888,
              "#fdca26"
             ],
             [
              1,
              "#f0f921"
             ]
            ],
            "type": "heatmap"
           }
          ],
          "histogram": [
           {
            "marker": {
             "pattern": {
              "fillmode": "overlay",
              "size": 10,
              "solidity": 0.2
             }
            },
            "type": "histogram"
           }
          ],
          "histogram2d": [
           {
            "colorbar": {
             "outlinewidth": 0,
             "ticks": ""
            },
            "colorscale": [
             [
              0,
              "#0d0887"
             ],
             [
              0.1111111111111111,
              "#46039f"
             ],
             [
              0.2222222222222222,
              "#7201a8"
             ],
             [
              0.3333333333333333,
              "#9c179e"
             ],
             [
              0.4444444444444444,
              "#bd3786"
             ],
             [
              0.5555555555555556,
              "#d8576b"
             ],
             [
              0.6666666666666666,
              "#ed7953"
             ],
             [
              0.7777777777777778,
              "#fb9f3a"
             ],
             [
              0.8888888888888888,
              "#fdca26"
             ],
             [
              1,
              "#f0f921"
             ]
            ],
            "type": "histogram2d"
           }
          ],
          "histogram2dcontour": [
           {
            "colorbar": {
             "outlinewidth": 0,
             "ticks": ""
            },
            "colorscale": [
             [
              0,
              "#0d0887"
             ],
             [
              0.1111111111111111,
              "#46039f"
             ],
             [
              0.2222222222222222,
              "#7201a8"
             ],
             [
              0.3333333333333333,
              "#9c179e"
             ],
             [
              0.4444444444444444,
              "#bd3786"
             ],
             [
              0.5555555555555556,
              "#d8576b"
             ],
             [
              0.6666666666666666,
              "#ed7953"
             ],
             [
              0.7777777777777778,
              "#fb9f3a"
             ],
             [
              0.8888888888888888,
              "#fdca26"
             ],
             [
              1,
              "#f0f921"
             ]
            ],
            "type": "histogram2dcontour"
           }
          ],
          "mesh3d": [
           {
            "colorbar": {
             "outlinewidth": 0,
             "ticks": ""
            },
            "type": "mesh3d"
           }
          ],
          "parcoords": [
           {
            "line": {
             "colorbar": {
              "outlinewidth": 0,
              "ticks": ""
             }
            },
            "type": "parcoords"
           }
          ],
          "pie": [
           {
            "automargin": true,
            "type": "pie"
           }
          ],
          "scatter": [
           {
            "fillpattern": {
             "fillmode": "overlay",
             "size": 10,
             "solidity": 0.2
            },
            "type": "scatter"
           }
          ],
          "scatter3d": [
           {
            "line": {
             "colorbar": {
              "outlinewidth": 0,
              "ticks": ""
             }
            },
            "marker": {
             "colorbar": {
              "outlinewidth": 0,
              "ticks": ""
             }
            },
            "type": "scatter3d"
           }
          ],
          "scattercarpet": [
           {
            "marker": {
             "colorbar": {
              "outlinewidth": 0,
              "ticks": ""
             }
            },
            "type": "scattercarpet"
           }
          ],
          "scattergeo": [
           {
            "marker": {
             "colorbar": {
              "outlinewidth": 0,
              "ticks": ""
             }
            },
            "type": "scattergeo"
           }
          ],
          "scattergl": [
           {
            "marker": {
             "colorbar": {
              "outlinewidth": 0,
              "ticks": ""
             }
            },
            "type": "scattergl"
           }
          ],
          "scattermap": [
           {
            "marker": {
             "colorbar": {
              "outlinewidth": 0,
              "ticks": ""
             }
            },
            "type": "scattermap"
           }
          ],
          "scattermapbox": [
           {
            "marker": {
             "colorbar": {
              "outlinewidth": 0,
              "ticks": ""
             }
            },
            "type": "scattermapbox"
           }
          ],
          "scatterpolar": [
           {
            "marker": {
             "colorbar": {
              "outlinewidth": 0,
              "ticks": ""
             }
            },
            "type": "scatterpolar"
           }
          ],
          "scatterpolargl": [
           {
            "marker": {
             "colorbar": {
              "outlinewidth": 0,
              "ticks": ""
             }
            },
            "type": "scatterpolargl"
           }
          ],
          "scatterternary": [
           {
            "marker": {
             "colorbar": {
              "outlinewidth": 0,
              "ticks": ""
             }
            },
            "type": "scatterternary"
           }
          ],
          "surface": [
           {
            "colorbar": {
             "outlinewidth": 0,
             "ticks": ""
            },
            "colorscale": [
             [
              0,
              "#0d0887"
             ],
             [
              0.1111111111111111,
              "#46039f"
             ],
             [
              0.2222222222222222,
              "#7201a8"
             ],
             [
              0.3333333333333333,
              "#9c179e"
             ],
             [
              0.4444444444444444,
              "#bd3786"
             ],
             [
              0.5555555555555556,
              "#d8576b"
             ],
             [
              0.6666666666666666,
              "#ed7953"
             ],
             [
              0.7777777777777778,
              "#fb9f3a"
             ],
             [
              0.8888888888888888,
              "#fdca26"
             ],
             [
              1,
              "#f0f921"
             ]
            ],
            "type": "surface"
           }
          ],
          "table": [
           {
            "cells": {
             "fill": {
              "color": "#EBF0F8"
             },
             "line": {
              "color": "white"
             }
            },
            "header": {
             "fill": {
              "color": "#C8D4E3"
             },
             "line": {
              "color": "white"
             }
            },
            "type": "table"
           }
          ]
         },
         "layout": {
          "annotationdefaults": {
           "arrowcolor": "#2a3f5f",
           "arrowhead": 0,
           "arrowwidth": 1
          },
          "autotypenumbers": "strict",
          "coloraxis": {
           "colorbar": {
            "outlinewidth": 0,
            "ticks": ""
           }
          },
          "colorscale": {
           "diverging": [
            [
             0,
             "#8e0152"
            ],
            [
             0.1,
             "#c51b7d"
            ],
            [
             0.2,
             "#de77ae"
            ],
            [
             0.3,
             "#f1b6da"
            ],
            [
             0.4,
             "#fde0ef"
            ],
            [
             0.5,
             "#f7f7f7"
            ],
            [
             0.6,
             "#e6f5d0"
            ],
            [
             0.7,
             "#b8e186"
            ],
            [
             0.8,
             "#7fbc41"
            ],
            [
             0.9,
             "#4d9221"
            ],
            [
             1,
             "#276419"
            ]
           ],
           "sequential": [
            [
             0,
             "#0d0887"
            ],
            [
             0.1111111111111111,
             "#46039f"
            ],
            [
             0.2222222222222222,
             "#7201a8"
            ],
            [
             0.3333333333333333,
             "#9c179e"
            ],
            [
             0.4444444444444444,
             "#bd3786"
            ],
            [
             0.5555555555555556,
             "#d8576b"
            ],
            [
             0.6666666666666666,
             "#ed7953"
            ],
            [
             0.7777777777777778,
             "#fb9f3a"
            ],
            [
             0.8888888888888888,
             "#fdca26"
            ],
            [
             1,
             "#f0f921"
            ]
           ],
           "sequentialminus": [
            [
             0,
             "#0d0887"
            ],
            [
             0.1111111111111111,
             "#46039f"
            ],
            [
             0.2222222222222222,
             "#7201a8"
            ],
            [
             0.3333333333333333,
             "#9c179e"
            ],
            [
             0.4444444444444444,
             "#bd3786"
            ],
            [
             0.5555555555555556,
             "#d8576b"
            ],
            [
             0.6666666666666666,
             "#ed7953"
            ],
            [
             0.7777777777777778,
             "#fb9f3a"
            ],
            [
             0.8888888888888888,
             "#fdca26"
            ],
            [
             1,
             "#f0f921"
            ]
           ]
          },
          "colorway": [
           "#636efa",
           "#EF553B",
           "#00cc96",
           "#ab63fa",
           "#FFA15A",
           "#19d3f3",
           "#FF6692",
           "#B6E880",
           "#FF97FF",
           "#FECB52"
          ],
          "font": {
           "color": "#2a3f5f"
          },
          "geo": {
           "bgcolor": "white",
           "lakecolor": "white",
           "landcolor": "#E5ECF6",
           "showlakes": true,
           "showland": true,
           "subunitcolor": "white"
          },
          "hoverlabel": {
           "align": "left"
          },
          "hovermode": "closest",
          "mapbox": {
           "style": "light"
          },
          "paper_bgcolor": "white",
          "plot_bgcolor": "#E5ECF6",
          "polar": {
           "angularaxis": {
            "gridcolor": "white",
            "linecolor": "white",
            "ticks": ""
           },
           "bgcolor": "#E5ECF6",
           "radialaxis": {
            "gridcolor": "white",
            "linecolor": "white",
            "ticks": ""
           }
          },
          "scene": {
           "xaxis": {
            "backgroundcolor": "#E5ECF6",
            "gridcolor": "white",
            "gridwidth": 2,
            "linecolor": "white",
            "showbackground": true,
            "ticks": "",
            "zerolinecolor": "white"
           },
           "yaxis": {
            "backgroundcolor": "#E5ECF6",
            "gridcolor": "white",
            "gridwidth": 2,
            "linecolor": "white",
            "showbackground": true,
            "ticks": "",
            "zerolinecolor": "white"
           },
           "zaxis": {
            "backgroundcolor": "#E5ECF6",
            "gridcolor": "white",
            "gridwidth": 2,
            "linecolor": "white",
            "showbackground": true,
            "ticks": "",
            "zerolinecolor": "white"
           }
          },
          "shapedefaults": {
           "line": {
            "color": "#2a3f5f"
           }
          },
          "ternary": {
           "aaxis": {
            "gridcolor": "white",
            "linecolor": "white",
            "ticks": ""
           },
           "baxis": {
            "gridcolor": "white",
            "linecolor": "white",
            "ticks": ""
           },
           "bgcolor": "#E5ECF6",
           "caxis": {
            "gridcolor": "white",
            "linecolor": "white",
            "ticks": ""
           }
          },
          "title": {
           "x": 0.05
          },
          "xaxis": {
           "automargin": true,
           "gridcolor": "white",
           "linecolor": "white",
           "ticks": "",
           "title": {
            "standoff": 15
           },
           "zerolinecolor": "white",
           "zerolinewidth": 2
          },
          "yaxis": {
           "automargin": true,
           "gridcolor": "white",
           "linecolor": "white",
           "ticks": "",
           "title": {
            "standoff": 15
           },
           "zerolinecolor": "white",
           "zerolinewidth": 2
          }
         }
        },
        "title": {
         "text": "Interactive 3D Rainbow Scatter"
        }
       }
      }
     },
     "metadata": {},
     "output_type": "display_data"
    }
   ],
   "source": [
    "idx = 300\n",
    "specific_fish = small_fishes[idx]\n",
    "dir_vec = get_fish_forward_vector(specific_fish)  #\n",
    "visualize_direction_vec_w_fish(specific_fish, dir_vec)"
   ]
  },
  {
   "cell_type": "code",
   "execution_count": 40,
   "id": "25ec9427",
   "metadata": {},
   "outputs": [
    {
     "data": {
      "application/vnd.plotly.v1+json": {
       "config": {
        "plotlyServerURL": "https://plot.ly"
       },
       "data": [
        {
         "marker": {
          "color": [
           "rgb(127, 0, 255)",
           "rgb(123, 6, 254)",
           "rgb(117, 15, 254)",
           "rgb(113, 21, 254)",
           "rgb(107, 31, 254)",
           "rgb(103, 37, 254)",
           "rgb(97, 46, 253)",
           "rgb(91, 56, 253)",
           "rgb(87, 62, 253)",
           "rgb(81, 71, 252)",
           "rgb(77, 77, 251)",
           "rgb(71, 86, 251)",
           "rgb(65, 95, 250)",
           "rgb(61, 100, 249)",
           "rgb(55, 109, 248)",
           "rgb(51, 115, 248)",
           "rgb(45, 123, 246)",
           "rgb(41, 128, 246)",
           "rgb(35, 136, 244)",
           "rgb(29, 144, 243)",
           "rgb(25, 149, 242)",
           "rgb(19, 157, 241)",
           "rgb(15, 162, 239)",
           "rgb(9, 169, 238)",
           "rgb(3, 176, 236)",
           "rgb(0, 180, 235)",
           "rgb(6, 187, 233)",
           "rgb(10, 191, 232)",
           "rgb(16, 197, 230)",
           "rgb(20, 201, 228)",
           "rgb(26, 207, 226)",
           "rgb(32, 212, 224)",
           "rgb(36, 215, 223)",
           "rgb(42, 220, 220)",
           "rgb(46, 223, 219)",
           "rgb(52, 228, 216)",
           "rgb(58, 232, 214)",
           "rgb(62, 234, 212)",
           "rgb(68, 238, 209)",
           "rgb(72, 240, 208)",
           "rgb(78, 243, 205)",
           "rgb(84, 246, 202)",
           "rgb(88, 247, 200)",
           "rgb(94, 249, 197)",
           "rgb(98, 250, 195)",
           "rgb(104, 252, 192)",
           "rgb(108, 253, 190)",
           "rgb(114, 254, 187)",
           "rgb(120, 254, 184)",
           "rgb(124, 254, 181)",
           "rgb(130, 254, 178)",
           "rgb(134, 254, 176)",
           "rgb(140, 254, 172)",
           "rgb(146, 253, 169)",
           "rgb(150, 252, 167)",
           "rgb(156, 250, 163)",
           "rgb(160, 249, 161)",
           "rgb(166, 247, 157)",
           "rgb(170, 246, 154)",
           "rgb(176, 243, 151)",
           "rgb(182, 240, 147)",
           "rgb(186, 238, 144)",
           "rgb(192, 234, 140)",
           "rgb(196, 232, 138)",
           "rgb(202, 228, 134)",
           "rgb(208, 223, 130)",
           "rgb(212, 220, 127)",
           "rgb(218, 215, 123)",
           "rgb(222, 212, 120)",
           "rgb(228, 207, 116)",
           "rgb(234, 201, 112)",
           "rgb(238, 197, 109)",
           "rgb(244, 191, 105)",
           "rgb(248, 187, 102)",
           "rgb(254, 180, 97)",
           "rgb(255, 176, 95)",
           "rgb(255, 169, 90)",
           "rgb(255, 162, 86)",
           "rgb(255, 157, 83)",
           "rgb(255, 149, 78)",
           "rgb(255, 144, 75)",
           "rgb(255, 136, 71)",
           "rgb(255, 128, 66)",
           "rgb(255, 123, 63)",
           "rgb(255, 115, 59)",
           "rgb(255, 109, 56)",
           "rgb(255, 100, 51)",
           "rgb(255, 95, 48)",
           "rgb(255, 86, 43)",
           "rgb(255, 77, 39)",
           "rgb(255, 71, 36)",
           "rgb(255, 62, 31)",
           "rgb(255, 56, 28)",
           "rgb(255, 46, 23)",
           "rgb(255, 37, 18)",
           "rgb(255, 31, 15)",
           "rgb(255, 21, 10)",
           "rgb(255, 15, 7)",
           "rgb(255, 6, 3)",
           "rgb(255, 0, 0)"
          ],
          "size": 3
         },
         "mode": "markers",
         "type": "scatter3d",
         "x": {
          "bdata": "AAAA4P+V7r8AAABgKSPuvwAAAEBn9Ou/AAAAQOoy6r8AAADArm/pvwAAAGAkOum/AAAAoNns578AAAAgCT/mvwAAAGCmTuW/AAAAgCoS5b8AAABAL+fkvwAAAEAv5+S/AAAAADS85L8AAABAQjvkvwAAAICtdOO/AAAAYGjj4r8AAACAjovhvwAAAMAOWOG/AAAAwJi53r8AAABAomPevwAAAOC+Yd2/AAAAYMgL3b8AAADg0bXcvwAAAKCvmNy/AAAAAAuy2r8AAACAFFzavwAAAIAUXNq/AAAAIESu2L8AAAAgRK7YvwAAAMBgrNe/AAAAwHMA178AAADgmajVvwAAAOCs/NS/AAAAYLam1L8AAACAyfrTvwAAAIDJ+tO/AAAAANOk078AAAAgcy7TvwAAAKAC99G/AAAAoAL30b8AAAAgDKHRvwAAAKAVS9G/AAAAoCif0L8AAABAMknQvwAAAGB35s+/AAAAwPwyy78AAADgItvJvwAAAOAi28m/AAAA4EiDyL8AAAAgldPFvwAAACCV08W/AAAAQM7Pw78AAABA9HfCvwAAAIBlgbe/AAAAgGWBt78AAACAZYG3vwAAAACU5K6/AAAAIOA0rL8AAACAeNWmvwAAACC6jJ2/AAAAoJ59Zb8AAABABt2KPwAAAMDqzZI/AAAA4BB2oT8AAAAAlOSuPwAAAOD9IbI/AAAAACWmtz8AAABA84i7PwAAAEDziLs/AAAAYC10wD8AAABgLXTAPwAAAEDOz8M/AAAAAG8rxz8AAADgSIPIPwAAAMD8Mss/AAAAQDJJ0D8AAAAA+UzSPwAAAAD5TNI/AAAAgMn60z8AAACAyfrTPwAAAIDJ+tM/AAAA4L9Q1D8AAABAalbXPwAAAKBNWNg/AAAAIESu2D8AAADg0bXcPwAAAGC1t90/AAAAQKJj3j8AAADAr17gPwAAAICOi+E/AAAAAIXh4T8AAAAApt/iPwAAAEDuCOQ/AAAAACFo5T8AAAAAve7oPwAAAGB6SOs/AAAAIF2z7j8AAABgFs/uPwAAAAAMc+8/AAAAIHq+7z8=",
          "dtype": "f8"
         },
         "y": {
          "bdata": "AAAA4EiDyL8AAADgfrwXPwAAAMD8Msu/AAAAQAbdir8AAACA3E7TvwAAAKDp3ss/AAAAQGpW178AAACgnn1lvwAAAADTpNM/AAAAAFzXx78AAABgoYTYPwAAAOD9IbK/AAAAQPOIuz8AAACA4ATQvwAAAGC5COC/AAAAQH2q1r8AAACgKJ/QPwAAAGC1t90/AAAAgI6L4b8AAABA2WbLvwAAAIDcTtO/AAAAYBogwT8AAADgI8qwvwAAAKBjDuO/AAAAwGCs178AAACAAQjbPwAAAMDEJaQ/AAAA4L5h3b8AAADAnArhvwAAAOANFOa/AAAAAPPh5T8AAADgWn/ePwAAAAD5TNI/AAAAIBNF078AAAAANx6APwAAAKD/lOa/AAAA4Pq/5r8AAAAgDKHRvwAAAOABvoa/AAAAICPB6L8AAAAgzeC8vwAAAOAjyrA/AAAAgLNE6b8AAABAN6XbvwAAAAAHl8S/AAAAoOneyz8AAACgm23ePwAAACC7e8S/AAAAIHy7378AAAAgRK7YPwAAAEAySdC/AAAAILqMnT8AAADAJT3lPwAAAOBIg8g/AAAA4CPKsL8AAACAPWbkvwAAAAD4Xdu/AAAAwIZU1j8AAAAgu3vEPwAAAMDw7Ni/AAAAIChO6j8AAADA/DLLvwAAAIAUXNo/AAAAADcegL8AAAAgDKHRvwAAAACU5K4/AAAAgIo6zz8AAACAnY7OPwAAAODyHOC/AAAAwJct6r8AAADgS+XjPwAAAOC/UNS/AAAAAIGQv78AAACgu6bpPwAAAACCf8a/AAAAQOEjwz8AAABg21/cPwAAAKAon9A/AAAAIFpk478AAABA0lTpvwAAAOCs/NS/AAAAYFItmL8AAACgrAfnPwAAAIC7I8S/AAAAYFItmD8AAAAgldPFPwAAAKAYeOa/AAAAAPhd278AAACAezfiPwAAAMDEJaS/AAAAQGpW1z8AAADgcY3ivwAAAADTpNO/AAAAILt7xD8AAAAgldPFvwAAAMDqzZI/AAAAIAyh0b8AAADAhwTUPwAAAEAZMbq/AAAAYBogwT8=",
          "dtype": "f8"
         },
         "z": {
          "bdata": "AAAAwNd5s78AAABgUi2YvwAAAKBC2Lo/AAAAQOEjwz8AAACAggm/vwAAAMDEJaS/AAAAAMYpsD8AAAAgOi3JvwAAAEAZMbo/AAAA4KP7yL8AAADgI8qwvwAAAAA/B8k/AAAAgL8ExD8AAAAAXNfHPwAAAEAG3Yo/AAAAwBXgwL8AAABgEljDvwAAACDgNKw/AAAAYKrwyr8AAACAsOLNvwAAAODsr8U/AAAAoC7axj8AAABAi0TIPwAAAICKOs8/AAAA4BCjxL8AAAAg34G8vwAAAEBgqci/AAAAQJ+nvD8AAADAg42rvwAAAEBN4KI/AAAAoJ59Zb8AAADA13mzPwAAAAD7/MI/AAAAAPlM0j8AAADAmH3ZPwAAAOBoZdW/AAAAwAjM1D8AAABgtqbUvwAAAIAUXNq/AAAAYAfMwb8AAACAAHfIPwAAAMCz/sY/AAAAIM4qxD8AAABgLXTAvwAAAKBNWNg/AAAAAHUzxL8AAADA13mzvwAAAGB0e8e/AAAAIBJUtD8AAAAAFy27PwAAAECH58Q/AAAAwOFCxr8AAADgLv5sPwAAAECB+cE/AAAAgB9qxD8AAADAWqCSvwAAAKAREru/AAAAQCSZu78AAAAACkbCvwAAAEDziLs/AAAAoJ59Zb8AAABgoqPAPwAAAMCPwbE/AAAAgO4gwr8AAACAZyG+vwAAAIBqRMA/AAAAQBkxuj8AAAAg4EC7vwAAAIB41aa/AAAAoJ59Zb8AAADARuOPPwAAAMCMQbQ/AAAAANluuj8AAACgnn1lvwAAAACwMbi/AAAAoGQztj8AAACA/wacvwAAAIC/u66/AAAAQO8fgj8AAACgnn1lvwAAAKCCE6O/AAAAQAzPuL8AAACgnn1lvwAAAACU5K4/AAAAYDV8tD8AAABgwvGLvwAAAKCefWW/AAAAIIwYgr8AAADAirdZPwAAAAD9gp8/AAAAQMktgr8AAACgnn1lvwAAAKCefWW/AAAAwKakfz8AAAAgLCR2PwAAAEAJLoa/AAAAoJ59Zb8AAACgnn1lvwAAAKCefWW/AAAAoJ59Zb8=",
          "dtype": "f8"
         }
        },
        {
         "anchor": "tail",
         "colorscale": [
          [
           0,
           "rgb(247,251,255)"
          ],
          [
           0.125,
           "rgb(222,235,247)"
          ],
          [
           0.25,
           "rgb(198,219,239)"
          ],
          [
           0.375,
           "rgb(158,202,225)"
          ],
          [
           0.5,
           "rgb(107,174,214)"
          ],
          [
           0.625,
           "rgb(66,146,198)"
          ],
          [
           0.75,
           "rgb(33,113,181)"
          ],
          [
           0.875,
           "rgb(8,81,156)"
          ],
          [
           1,
           "rgb(8,48,107)"
          ]
         ],
         "showscale": false,
         "sizemode": "absolute",
         "sizeref": 0.5,
         "type": "cone",
         "u": [
          -0.9759722227652459
         ],
         "v": [
          -0.21778633142178636
         ],
         "w": [
          0.006879988118110202
         ],
         "x": [
          0
         ],
         "y": [
          0
         ],
         "z": [
          0
         ]
        }
       ],
       "layout": {
        "scene": {
         "xaxis": {
          "title": {
           "text": "X"
          }
         },
         "yaxis": {
          "title": {
           "text": "Y"
          }
         },
         "zaxis": {
          "title": {
           "text": "Z"
          }
         }
        },
        "template": {
         "data": {
          "bar": [
           {
            "error_x": {
             "color": "#2a3f5f"
            },
            "error_y": {
             "color": "#2a3f5f"
            },
            "marker": {
             "line": {
              "color": "#E5ECF6",
              "width": 0.5
             },
             "pattern": {
              "fillmode": "overlay",
              "size": 10,
              "solidity": 0.2
             }
            },
            "type": "bar"
           }
          ],
          "barpolar": [
           {
            "marker": {
             "line": {
              "color": "#E5ECF6",
              "width": 0.5
             },
             "pattern": {
              "fillmode": "overlay",
              "size": 10,
              "solidity": 0.2
             }
            },
            "type": "barpolar"
           }
          ],
          "carpet": [
           {
            "aaxis": {
             "endlinecolor": "#2a3f5f",
             "gridcolor": "white",
             "linecolor": "white",
             "minorgridcolor": "white",
             "startlinecolor": "#2a3f5f"
            },
            "baxis": {
             "endlinecolor": "#2a3f5f",
             "gridcolor": "white",
             "linecolor": "white",
             "minorgridcolor": "white",
             "startlinecolor": "#2a3f5f"
            },
            "type": "carpet"
           }
          ],
          "choropleth": [
           {
            "colorbar": {
             "outlinewidth": 0,
             "ticks": ""
            },
            "type": "choropleth"
           }
          ],
          "contour": [
           {
            "colorbar": {
             "outlinewidth": 0,
             "ticks": ""
            },
            "colorscale": [
             [
              0,
              "#0d0887"
             ],
             [
              0.1111111111111111,
              "#46039f"
             ],
             [
              0.2222222222222222,
              "#7201a8"
             ],
             [
              0.3333333333333333,
              "#9c179e"
             ],
             [
              0.4444444444444444,
              "#bd3786"
             ],
             [
              0.5555555555555556,
              "#d8576b"
             ],
             [
              0.6666666666666666,
              "#ed7953"
             ],
             [
              0.7777777777777778,
              "#fb9f3a"
             ],
             [
              0.8888888888888888,
              "#fdca26"
             ],
             [
              1,
              "#f0f921"
             ]
            ],
            "type": "contour"
           }
          ],
          "contourcarpet": [
           {
            "colorbar": {
             "outlinewidth": 0,
             "ticks": ""
            },
            "type": "contourcarpet"
           }
          ],
          "heatmap": [
           {
            "colorbar": {
             "outlinewidth": 0,
             "ticks": ""
            },
            "colorscale": [
             [
              0,
              "#0d0887"
             ],
             [
              0.1111111111111111,
              "#46039f"
             ],
             [
              0.2222222222222222,
              "#7201a8"
             ],
             [
              0.3333333333333333,
              "#9c179e"
             ],
             [
              0.4444444444444444,
              "#bd3786"
             ],
             [
              0.5555555555555556,
              "#d8576b"
             ],
             [
              0.6666666666666666,
              "#ed7953"
             ],
             [
              0.7777777777777778,
              "#fb9f3a"
             ],
             [
              0.8888888888888888,
              "#fdca26"
             ],
             [
              1,
              "#f0f921"
             ]
            ],
            "type": "heatmap"
           }
          ],
          "histogram": [
           {
            "marker": {
             "pattern": {
              "fillmode": "overlay",
              "size": 10,
              "solidity": 0.2
             }
            },
            "type": "histogram"
           }
          ],
          "histogram2d": [
           {
            "colorbar": {
             "outlinewidth": 0,
             "ticks": ""
            },
            "colorscale": [
             [
              0,
              "#0d0887"
             ],
             [
              0.1111111111111111,
              "#46039f"
             ],
             [
              0.2222222222222222,
              "#7201a8"
             ],
             [
              0.3333333333333333,
              "#9c179e"
             ],
             [
              0.4444444444444444,
              "#bd3786"
             ],
             [
              0.5555555555555556,
              "#d8576b"
             ],
             [
              0.6666666666666666,
              "#ed7953"
             ],
             [
              0.7777777777777778,
              "#fb9f3a"
             ],
             [
              0.8888888888888888,
              "#fdca26"
             ],
             [
              1,
              "#f0f921"
             ]
            ],
            "type": "histogram2d"
           }
          ],
          "histogram2dcontour": [
           {
            "colorbar": {
             "outlinewidth": 0,
             "ticks": ""
            },
            "colorscale": [
             [
              0,
              "#0d0887"
             ],
             [
              0.1111111111111111,
              "#46039f"
             ],
             [
              0.2222222222222222,
              "#7201a8"
             ],
             [
              0.3333333333333333,
              "#9c179e"
             ],
             [
              0.4444444444444444,
              "#bd3786"
             ],
             [
              0.5555555555555556,
              "#d8576b"
             ],
             [
              0.6666666666666666,
              "#ed7953"
             ],
             [
              0.7777777777777778,
              "#fb9f3a"
             ],
             [
              0.8888888888888888,
              "#fdca26"
             ],
             [
              1,
              "#f0f921"
             ]
            ],
            "type": "histogram2dcontour"
           }
          ],
          "mesh3d": [
           {
            "colorbar": {
             "outlinewidth": 0,
             "ticks": ""
            },
            "type": "mesh3d"
           }
          ],
          "parcoords": [
           {
            "line": {
             "colorbar": {
              "outlinewidth": 0,
              "ticks": ""
             }
            },
            "type": "parcoords"
           }
          ],
          "pie": [
           {
            "automargin": true,
            "type": "pie"
           }
          ],
          "scatter": [
           {
            "fillpattern": {
             "fillmode": "overlay",
             "size": 10,
             "solidity": 0.2
            },
            "type": "scatter"
           }
          ],
          "scatter3d": [
           {
            "line": {
             "colorbar": {
              "outlinewidth": 0,
              "ticks": ""
             }
            },
            "marker": {
             "colorbar": {
              "outlinewidth": 0,
              "ticks": ""
             }
            },
            "type": "scatter3d"
           }
          ],
          "scattercarpet": [
           {
            "marker": {
             "colorbar": {
              "outlinewidth": 0,
              "ticks": ""
             }
            },
            "type": "scattercarpet"
           }
          ],
          "scattergeo": [
           {
            "marker": {
             "colorbar": {
              "outlinewidth": 0,
              "ticks": ""
             }
            },
            "type": "scattergeo"
           }
          ],
          "scattergl": [
           {
            "marker": {
             "colorbar": {
              "outlinewidth": 0,
              "ticks": ""
             }
            },
            "type": "scattergl"
           }
          ],
          "scattermap": [
           {
            "marker": {
             "colorbar": {
              "outlinewidth": 0,
              "ticks": ""
             }
            },
            "type": "scattermap"
           }
          ],
          "scattermapbox": [
           {
            "marker": {
             "colorbar": {
              "outlinewidth": 0,
              "ticks": ""
             }
            },
            "type": "scattermapbox"
           }
          ],
          "scatterpolar": [
           {
            "marker": {
             "colorbar": {
              "outlinewidth": 0,
              "ticks": ""
             }
            },
            "type": "scatterpolar"
           }
          ],
          "scatterpolargl": [
           {
            "marker": {
             "colorbar": {
              "outlinewidth": 0,
              "ticks": ""
             }
            },
            "type": "scatterpolargl"
           }
          ],
          "scatterternary": [
           {
            "marker": {
             "colorbar": {
              "outlinewidth": 0,
              "ticks": ""
             }
            },
            "type": "scatterternary"
           }
          ],
          "surface": [
           {
            "colorbar": {
             "outlinewidth": 0,
             "ticks": ""
            },
            "colorscale": [
             [
              0,
              "#0d0887"
             ],
             [
              0.1111111111111111,
              "#46039f"
             ],
             [
              0.2222222222222222,
              "#7201a8"
             ],
             [
              0.3333333333333333,
              "#9c179e"
             ],
             [
              0.4444444444444444,
              "#bd3786"
             ],
             [
              0.5555555555555556,
              "#d8576b"
             ],
             [
              0.6666666666666666,
              "#ed7953"
             ],
             [
              0.7777777777777778,
              "#fb9f3a"
             ],
             [
              0.8888888888888888,
              "#fdca26"
             ],
             [
              1,
              "#f0f921"
             ]
            ],
            "type": "surface"
           }
          ],
          "table": [
           {
            "cells": {
             "fill": {
              "color": "#EBF0F8"
             },
             "line": {
              "color": "white"
             }
            },
            "header": {
             "fill": {
              "color": "#C8D4E3"
             },
             "line": {
              "color": "white"
             }
            },
            "type": "table"
           }
          ]
         },
         "layout": {
          "annotationdefaults": {
           "arrowcolor": "#2a3f5f",
           "arrowhead": 0,
           "arrowwidth": 1
          },
          "autotypenumbers": "strict",
          "coloraxis": {
           "colorbar": {
            "outlinewidth": 0,
            "ticks": ""
           }
          },
          "colorscale": {
           "diverging": [
            [
             0,
             "#8e0152"
            ],
            [
             0.1,
             "#c51b7d"
            ],
            [
             0.2,
             "#de77ae"
            ],
            [
             0.3,
             "#f1b6da"
            ],
            [
             0.4,
             "#fde0ef"
            ],
            [
             0.5,
             "#f7f7f7"
            ],
            [
             0.6,
             "#e6f5d0"
            ],
            [
             0.7,
             "#b8e186"
            ],
            [
             0.8,
             "#7fbc41"
            ],
            [
             0.9,
             "#4d9221"
            ],
            [
             1,
             "#276419"
            ]
           ],
           "sequential": [
            [
             0,
             "#0d0887"
            ],
            [
             0.1111111111111111,
             "#46039f"
            ],
            [
             0.2222222222222222,
             "#7201a8"
            ],
            [
             0.3333333333333333,
             "#9c179e"
            ],
            [
             0.4444444444444444,
             "#bd3786"
            ],
            [
             0.5555555555555556,
             "#d8576b"
            ],
            [
             0.6666666666666666,
             "#ed7953"
            ],
            [
             0.7777777777777778,
             "#fb9f3a"
            ],
            [
             0.8888888888888888,
             "#fdca26"
            ],
            [
             1,
             "#f0f921"
            ]
           ],
           "sequentialminus": [
            [
             0,
             "#0d0887"
            ],
            [
             0.1111111111111111,
             "#46039f"
            ],
            [
             0.2222222222222222,
             "#7201a8"
            ],
            [
             0.3333333333333333,
             "#9c179e"
            ],
            [
             0.4444444444444444,
             "#bd3786"
            ],
            [
             0.5555555555555556,
             "#d8576b"
            ],
            [
             0.6666666666666666,
             "#ed7953"
            ],
            [
             0.7777777777777778,
             "#fb9f3a"
            ],
            [
             0.8888888888888888,
             "#fdca26"
            ],
            [
             1,
             "#f0f921"
            ]
           ]
          },
          "colorway": [
           "#636efa",
           "#EF553B",
           "#00cc96",
           "#ab63fa",
           "#FFA15A",
           "#19d3f3",
           "#FF6692",
           "#B6E880",
           "#FF97FF",
           "#FECB52"
          ],
          "font": {
           "color": "#2a3f5f"
          },
          "geo": {
           "bgcolor": "white",
           "lakecolor": "white",
           "landcolor": "#E5ECF6",
           "showlakes": true,
           "showland": true,
           "subunitcolor": "white"
          },
          "hoverlabel": {
           "align": "left"
          },
          "hovermode": "closest",
          "mapbox": {
           "style": "light"
          },
          "paper_bgcolor": "white",
          "plot_bgcolor": "#E5ECF6",
          "polar": {
           "angularaxis": {
            "gridcolor": "white",
            "linecolor": "white",
            "ticks": ""
           },
           "bgcolor": "#E5ECF6",
           "radialaxis": {
            "gridcolor": "white",
            "linecolor": "white",
            "ticks": ""
           }
          },
          "scene": {
           "xaxis": {
            "backgroundcolor": "#E5ECF6",
            "gridcolor": "white",
            "gridwidth": 2,
            "linecolor": "white",
            "showbackground": true,
            "ticks": "",
            "zerolinecolor": "white"
           },
           "yaxis": {
            "backgroundcolor": "#E5ECF6",
            "gridcolor": "white",
            "gridwidth": 2,
            "linecolor": "white",
            "showbackground": true,
            "ticks": "",
            "zerolinecolor": "white"
           },
           "zaxis": {
            "backgroundcolor": "#E5ECF6",
            "gridcolor": "white",
            "gridwidth": 2,
            "linecolor": "white",
            "showbackground": true,
            "ticks": "",
            "zerolinecolor": "white"
           }
          },
          "shapedefaults": {
           "line": {
            "color": "#2a3f5f"
           }
          },
          "ternary": {
           "aaxis": {
            "gridcolor": "white",
            "linecolor": "white",
            "ticks": ""
           },
           "baxis": {
            "gridcolor": "white",
            "linecolor": "white",
            "ticks": ""
           },
           "bgcolor": "#E5ECF6",
           "caxis": {
            "gridcolor": "white",
            "linecolor": "white",
            "ticks": ""
           }
          },
          "title": {
           "x": 0.05
          },
          "xaxis": {
           "automargin": true,
           "gridcolor": "white",
           "linecolor": "white",
           "ticks": "",
           "title": {
            "standoff": 15
           },
           "zerolinecolor": "white",
           "zerolinewidth": 2
          },
          "yaxis": {
           "automargin": true,
           "gridcolor": "white",
           "linecolor": "white",
           "ticks": "",
           "title": {
            "standoff": 15
           },
           "zerolinecolor": "white",
           "zerolinewidth": 2
          }
         }
        },
        "title": {
         "text": "Interactive 3D Rainbow Scatter"
        }
       }
      }
     },
     "metadata": {},
     "output_type": "display_data"
    }
   ],
   "source": [
    "visualize_direction_vec_w_fish(reference_fish, forward_vec)"
   ]
  },
  {
   "cell_type": "code",
   "execution_count": 50,
   "id": "9809b9af",
   "metadata": {},
   "outputs": [
    {
     "name": "stderr",
     "output_type": "stream",
     "text": [
      " 20%|██        | 73/360 [2:20:31<9:12:29, 115.50s/it] \n"
     ]
    },
    {
     "ename": "KeyboardInterrupt",
     "evalue": "",
     "output_type": "error",
     "traceback": [
      "\u001b[0;31m---------------------------------------------------------------------------\u001b[0m",
      "\u001b[0;31mKeyboardInterrupt\u001b[0m                         Traceback (most recent call last)",
      "Cell \u001b[0;32mIn[50], line 9\u001b[0m\n\u001b[1;32m      6\u001b[0m small_fish_points \u001b[38;5;241m=\u001b[39m small_fish\u001b[38;5;241m.\u001b[39mvertices\n\u001b[1;32m      8\u001b[0m \u001b[38;5;66;03m# 3. ICP 정렬 (point-to-point)\u001b[39;00m\n\u001b[0;32m----> 9\u001b[0m matrix, _, cost \u001b[38;5;241m=\u001b[39m \u001b[43micp\u001b[49m\u001b[43m(\u001b[49m\n\u001b[1;32m     10\u001b[0m \u001b[43m    \u001b[49m\u001b[43msmall_fish_points\u001b[49m\u001b[43m,\u001b[49m\n\u001b[1;32m     11\u001b[0m \u001b[43m    \u001b[49m\u001b[43mref_points\u001b[49m\u001b[43m,\u001b[49m\n\u001b[1;32m     12\u001b[0m \u001b[43m\u001b[49m\u001b[43m)\u001b[49m\n\u001b[1;32m     14\u001b[0m \u001b[38;5;66;03m# 4. 변환 행렬 적용\u001b[39;00m\n\u001b[1;32m     15\u001b[0m small_fish\u001b[38;5;241m.\u001b[39mapply_transform(matrix)\n",
      "File \u001b[0;32m/opt/conda/envs/fish/lib/python3.8/site-packages/trimesh/registration.py:379\u001b[0m, in \u001b[0;36micp\u001b[0;34m(a, b, initial, threshold, max_iterations, **kwargs)\u001b[0m\n\u001b[1;32m    377\u001b[0m     closest, _distance, _faces \u001b[38;5;241m=\u001b[39m b\u001b[38;5;241m.\u001b[39mnearest\u001b[38;5;241m.\u001b[39mon_surface(a)\n\u001b[1;32m    378\u001b[0m \u001b[38;5;28;01melse\u001b[39;00m:\n\u001b[0;32m--> 379\u001b[0m     _distances, ix \u001b[38;5;241m=\u001b[39m \u001b[43mbtree\u001b[49m\u001b[38;5;241;43m.\u001b[39;49m\u001b[43mquery\u001b[49m\u001b[43m(\u001b[49m\u001b[43ma\u001b[49m\u001b[43m,\u001b[49m\u001b[43m \u001b[49m\u001b[38;5;241;43m1\u001b[39;49m\u001b[43m)\u001b[49m\n\u001b[1;32m    380\u001b[0m     closest \u001b[38;5;241m=\u001b[39m b[ix]\n\u001b[1;32m    382\u001b[0m \u001b[38;5;66;03m# align a with closest points\u001b[39;00m\n",
      "File \u001b[0;32m_ckdtree.pyx:824\u001b[0m, in \u001b[0;36mscipy.spatial._ckdtree.cKDTree.query\u001b[0;34m()\u001b[0m\n",
      "File \u001b[0;32m<__array_function__ internals>:179\u001b[0m, in \u001b[0;36mreshape\u001b[0;34m(*args, **kwargs)\u001b[0m\n",
      "\u001b[0;31mKeyboardInterrupt\u001b[0m: "
     ]
    }
   ],
   "source": [
    "from trimesh.registration import icp\n",
    "ref_points = reference_fish.vertices\n",
    "small_fishes_aligned = []\n",
    "for small_fish in tqdm(small_fishes):\n",
    "    # 2. Source Mesh 로드 및 Vertex 추출\n",
    "    small_fish_points = small_fish.vertices\n",
    "\n",
    "    # 3. ICP 정렬 (point-to-point)\n",
    "    matrix, _, cost = icp(\n",
    "        small_fish_points,\n",
    "        ref_points,\n",
    "    )\n",
    "\n",
    "    # 4. 변환 행렬 적용\n",
    "    small_fish.apply_transform(matrix)\n",
    "\n",
    "    # 5. 저장\n",
    "    small_fishes_aligned.append(small_fish)"
   ]
  },
  {
   "cell_type": "code",
   "execution_count": 10,
   "id": "51770e5e",
   "metadata": {},
   "outputs": [
    {
     "name": "stderr",
     "output_type": "stream",
     "text": [
      "Instance Placement: 360it [00:02, 131.29it/s]\n"
     ]
    }
   ],
   "source": [
    "# Place small fish instances\n",
    "scene = trimesh.Scene()\n",
    "sorted_indices = np.argsort(points[:, 0])\n",
    "sorted_points = points[sorted_indices]\n",
    "\n",
    "for small_fish, p in tqdm(zip(small_fishes, sorted_points), desc='Instance Placement'):\n",
    "    small_fish.apply_scale(SCALE_RATIO)\n",
    "    small_fish.apply_translation(p)\n",
    "    scene.add_geometry(small_fish)\n",
    "scene.export('school_of_different_fishes_aligned_reduced.glb')"
   ]
  },
  {
   "cell_type": "code",
   "execution_count": 27,
   "id": "cc5adee2",
   "metadata": {},
   "outputs": [
    {
     "name": "stderr",
     "output_type": "stream",
     "text": [
      "Aligning Small Fish: 360it [08:05,  1.35s/it]\n"
     ]
    }
   ],
   "source": [
    "for i, small_fish in tqdm(enumerate(small_fishes), desc=\"Aligning Small Fish\"):\n",
    "    src_dir = get_fish_forward_vector(small_fish)\n",
    "    R_mat = get_rotation_matrix_from_vectors(src_dir, forward_vec)\n",
    "\n",
    "    small_fishes[i] = rotate_mesh_vertices(small_fish, R_mat)"
   ]
  },
  {
   "cell_type": "code",
   "execution_count": null,
   "id": "db1262c4",
   "metadata": {},
   "outputs": [
    {
     "name": "stderr",
     "output_type": "stream",
     "text": [
      "Instance Placement: 360it [00:22, 16.25it/s]\n"
     ]
    }
   ],
   "source": [
    "# Place small fish instances\n",
    "scene = trimesh.Scene()\n",
    "sorted_indices = np.argsort(points[:, 0])\n",
    "sorted_points = points[sorted_indices]\n",
    "\n",
    "for small_fish, p in tqdm(zip(small_fishes, sorted_points), desc='Instance Placement'):\n",
    "    small_fish.apply_scale(SCALE_RATIO)\n",
    "    small_fish.apply_translation(p)\n",
    "    scene.add_geometry(small_fish)\n",
    "scene.export('school_of_different_fishes_aligned.glb')"
   ]
  }
 ],
 "metadata": {
  "kernelspec": {
   "display_name": "fish",
   "language": "python",
   "name": "python3"
  },
  "language_info": {
   "codemirror_mode": {
    "name": "ipython",
    "version": 3
   },
   "file_extension": ".py",
   "mimetype": "text/x-python",
   "name": "python",
   "nbconvert_exporter": "python",
   "pygments_lexer": "ipython3",
   "version": "3.8.20"
  }
 },
 "nbformat": 4,
 "nbformat_minor": 5
}
